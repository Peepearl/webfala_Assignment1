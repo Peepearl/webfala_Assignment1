{
 "cells": [
  {
   "cell_type": "code",
   "execution_count": 1,
   "id": "cb233d43",
   "metadata": {},
   "outputs": [
    {
     "name": "stdout",
     "output_type": "stream",
     "text": [
      "hello world\n"
     ]
    }
   ],
   "source": [
    "print (\"hello world\")"
   ]
  },
  {
   "cell_type": "code",
   "execution_count": 2,
   "id": "066f8fa2",
   "metadata": {},
   "outputs": [
    {
     "name": "stdout",
     "output_type": "stream",
     "text": [
      "9\n"
     ]
    }
   ],
   "source": [
    "r=3\n",
    "u=6\n",
    "print(r+u)"
   ]
  },
  {
   "cell_type": "code",
   "execution_count": 3,
   "id": "a85960a3",
   "metadata": {},
   "outputs": [
    {
     "name": "stdout",
     "output_type": "stream",
     "text": [
      "hello world\n"
     ]
    }
   ],
   "source": [
    "print(\"hello world\")"
   ]
  },
  {
   "cell_type": "markdown",
   "id": "969a20b2",
   "metadata": {},
   "source": [
    "print(\"hello world\")"
   ]
  },
  {
   "cell_type": "markdown",
   "id": "4e7c6ce0",
   "metadata": {},
   "source": []
  },
  {
   "cell_type": "code",
   "execution_count": null,
   "id": "2150fcf9",
   "metadata": {},
   "outputs": [],
   "source": []
  },
  {
   "cell_type": "code",
   "execution_count": 6,
   "id": "7ba052d7",
   "metadata": {},
   "outputs": [
    {
     "name": "stdout",
     "output_type": "stream",
     "text": [
      "TimeoutError\n"
     ]
    }
   ],
   "source": [
    "r=(\"TimeoutError\")\n",
    "print(r)"
   ]
  },
  {
   "cell_type": "markdown",
   "id": "3ab80d8c",
   "metadata": {},
   "source": []
  },
  {
   "cell_type": "markdown",
   "id": "c4e583cb",
   "metadata": {},
   "source": [
    "this is my code\n"
   ]
  },
  {
   "cell_type": "markdown",
   "id": "ad37d284",
   "metadata": {},
   "source": []
  },
  {
   "cell_type": "markdown",
   "id": "6e92b557",
   "metadata": {},
   "source": [
    "# hi\n",
    "\n",
    "- point \n",
    "- point 2"
   ]
  },
  {
   "cell_type": "code",
   "execution_count": 8,
   "id": "bf14a59b",
   "metadata": {},
   "outputs": [],
   "source": [
    "- point \n",
    "- point 2"
   ]
  },
  {
   "cell_type": "markdown",
   "id": "4a8c02a9",
   "metadata": {},
   "source": []
  },
  {
   "cell_type": "code",
   "execution_count": null,
   "id": "8282f54c",
   "metadata": {},
   "outputs": [],
   "source": []
  }
 ],
 "metadata": {
  "kernelspec": {
   "display_name": "Python 3 (ipykernel)",
   "language": "python",
   "name": "python3"
  },
  "language_info": {
   "codemirror_mode": {
    "name": "ipython",
    "version": 3
   },
   "file_extension": ".py",
   "mimetype": "text/x-python",
   "name": "python",
   "nbconvert_exporter": "python",
   "pygments_lexer": "ipython3",
   "version": "3.11.4"
  }
 },
 "nbformat": 4,
 "nbformat_minor": 5
}
